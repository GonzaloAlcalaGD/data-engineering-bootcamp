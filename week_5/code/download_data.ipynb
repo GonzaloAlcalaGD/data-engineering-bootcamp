{
 "cells": [
  {
   "cell_type": "markdown",
   "metadata": {},
   "source": [
    "# Packages"
   ]
  },
  {
   "cell_type": "code",
   "execution_count": 45,
   "metadata": {},
   "outputs": [],
   "source": [
    "import os\n",
    "from pathlib import Path\n",
    "import pyspark\n",
    "from pyspark.sql import SparkSession\n",
    "from pyspark.sql import types\n",
    "from pyspark.sql.utils import AnalysisException\n",
    "from pyspark.sql.functions import  format_number\n",
    "\n",
    "import pandas as pd"
   ]
  },
  {
   "cell_type": "markdown",
   "metadata": {},
   "source": [
    "# Variables"
   ]
  },
  {
   "cell_type": "code",
   "execution_count": 2,
   "metadata": {},
   "outputs": [
    {
     "name": "stderr",
     "output_type": "stream",
     "text": [
      "Setting default log level to \"WARN\".\n",
      "To adjust logging level use sc.setLogLevel(newLevel). For SparkR, use setLogLevel(newLevel).\n"
     ]
    },
    {
     "name": "stdout",
     "output_type": "stream",
     "text": [
      "23/02/23 14:47:01 WARN NativeCodeLoader: Unable to load native-hadoop library for your platform... using builtin-java classes where applicable\n",
      "23/02/23 14:47:02 WARN Utils: Service 'SparkUI' could not bind on port 4040. Attempting port 4041.\n"
     ]
    }
   ],
   "source": [
    "spark: SparkSession = SparkSession.builder.master('local[*]').appName('test').getOrCreate()\n",
    "spark.conf.set(\"spark.sql.execution.arrow.pyspark.enabled\", \"true\")\n",
    "spark.conf.set(\"mapreduce.fileoutputcommitter.marksuccessfuljobs\", \"false\")"
   ]
  },
  {
   "cell_type": "code",
   "execution_count": 3,
   "metadata": {},
   "outputs": [],
   "source": [
    "base_url: str = 'https://d37ci6vzurychx.cloudfront.net/trip-data/'\n",
    "colors: list = ['green', 'yellow']\n",
    "years: list = [2020, 2021]"
   ]
  },
  {
   "cell_type": "markdown",
   "metadata": {},
   "source": [
    "# Download Green files"
   ]
  },
  {
   "cell_type": "code",
   "execution_count": 23,
   "metadata": {},
   "outputs": [
    {
     "name": "stdout",
     "output_type": "stream",
     "text": [
      "Downloading file: green_tripdata_2020-01.parquet from url: \n",
      " https://d37ci6vzurychx.cloudfront.net/trip-data/green_tripdata_2020-01.parquet\n"
     ]
    },
    {
     "name": "stderr",
     "output_type": "stream",
     "text": [
      "  % Total    % Received % Xferd  Average Speed   Time    Time     Time  Current\n",
      "                                 Dload  Upload   Total   Spent    Left  Speed\n",
      "100 7014k  100 7014k    0     0  1780k      0  0:00:03  0:00:03 --:--:-- 1784k\n",
      "  % Total    % Received % Xferd  Average Speed   Time    Time     Time  Current\n",
      "                                 Dload  Upload   Total   Spent    Left  Speed\n",
      "  0     0    0     0    0     0      0      0 --:--:-- --:--:-- --:--:--     0"
     ]
    },
    {
     "name": "stdout",
     "output_type": "stream",
     "text": [
      "Downloading file: green_tripdata_2020-02.parquet from url: \n",
      " https://d37ci6vzurychx.cloudfront.net/trip-data/green_tripdata_2020-02.parquet\n"
     ]
    },
    {
     "name": "stderr",
     "output_type": "stream",
     "text": [
      "100 6493k  100 6493k    0     0  2566k      0  0:00:02  0:00:02 --:--:-- 2575k\n",
      "  % Total    % Received % Xferd  Average Speed   Time    Time     Time  Current\n",
      "                                 Dload  Upload   Total   Spent    Left  Speed\n",
      "  0     0    0     0    0     0      0      0 --:--:-- --:--:-- --:--:--     0"
     ]
    },
    {
     "name": "stdout",
     "output_type": "stream",
     "text": [
      "Downloading file: green_tripdata_2020-03.parquet from url: \n",
      " https://d37ci6vzurychx.cloudfront.net/trip-data/green_tripdata_2020-03.parquet\n"
     ]
    },
    {
     "name": "stderr",
     "output_type": "stream",
     "text": [
      "100 3925k  100 3925k    0     0  1577k      0  0:00:02  0:00:02 --:--:-- 1584k\n",
      "  % Total    % Received % Xferd  Average Speed   Time    Time     Time  Current\n",
      "                                 Dload  Upload   Total   Spent    Left  Speed\n",
      "  0     0    0     0    0     0      0      0 --:--:-- --:--:-- --:--:--     0"
     ]
    },
    {
     "name": "stdout",
     "output_type": "stream",
     "text": [
      "Downloading file: green_tripdata_2020-04.parquet from url: \n",
      " https://d37ci6vzurychx.cloudfront.net/trip-data/green_tripdata_2020-04.parquet\n"
     ]
    },
    {
     "name": "stderr",
     "output_type": "stream",
     "text": [
      "100  696k  100  696k    0     0  1481k      0 --:--:-- --:--:-- --:--:-- 1514k\n"
     ]
    },
    {
     "name": "stdout",
     "output_type": "stream",
     "text": [
      "Downloading file: green_tripdata_2020-05.parquet from url: \n",
      " https://d37ci6vzurychx.cloudfront.net/trip-data/green_tripdata_2020-05.parquet\n"
     ]
    },
    {
     "name": "stderr",
     "output_type": "stream",
     "text": [
      "  % Total    % Received % Xferd  Average Speed   Time    Time     Time  Current\n",
      "                                 Dload  Upload   Total   Spent    Left  Speed\n",
      "100 1057k  100 1057k    0     0  1910k      0 --:--:-- --:--:-- --:--:-- 1950k\n",
      "  % Total    % Received % Xferd  Average Speed   Time    Time     Time  Current\n",
      "                                 Dload  Upload   Total   Spent    Left  Speed\n",
      "  0     0    0     0    0     0      0      0 --:--:-- --:--:-- --:--:--     0"
     ]
    },
    {
     "name": "stdout",
     "output_type": "stream",
     "text": [
      "Downloading file: green_tripdata_2020-06.parquet from url: \n",
      " https://d37ci6vzurychx.cloudfront.net/trip-data/green_tripdata_2020-06.parquet\n"
     ]
    },
    {
     "name": "stderr",
     "output_type": "stream",
     "text": [
      "100 1176k  100 1176k    0     0  2032k      0 --:--:-- --:--:-- --:--:-- 2064k\n",
      "  % Total    % Received % Xferd  Average Speed   Time    Time     Time  Current\n",
      "                                 Dload  Upload   Total   Spent    Left  Speed\n",
      "  0     0    0     0    0     0      0      0 --:--:-- --:--:-- --:--:--     0"
     ]
    },
    {
     "name": "stdout",
     "output_type": "stream",
     "text": [
      "Downloading file: green_tripdata_2020-07.parquet from url: \n",
      " https://d37ci6vzurychx.cloudfront.net/trip-data/green_tripdata_2020-07.parquet\n"
     ]
    },
    {
     "name": "stderr",
     "output_type": "stream",
     "text": [
      "100 1277k  100 1277k    0     0  1762k      0 --:--:-- --:--:-- --:--:-- 1786k\n",
      "  % Total    % Received % Xferd  Average Speed   Time    Time     Time  Current\n",
      "                                 Dload  Upload   Total   Spent    Left  Speed\n",
      "  0     0    0     0    0     0      0      0 --:--:-- --:--:-- --:--:--     0"
     ]
    },
    {
     "name": "stdout",
     "output_type": "stream",
     "text": [
      "Downloading file: green_tripdata_2020-08.parquet from url: \n",
      " https://d37ci6vzurychx.cloudfront.net/trip-data/green_tripdata_2020-08.parquet\n"
     ]
    },
    {
     "name": "stderr",
     "output_type": "stream",
     "text": [
      "100 1467k  100 1467k    0     0   956k      0  0:00:01  0:00:01 --:--:--  963k\n",
      "  % Total    % Received % Xferd  Average Speed   Time    Time     Time  Current\n",
      "                                 Dload  Upload   Total   Spent    Left  Speed\n",
      "  0     0    0     0    0     0      0      0 --:--:-- --:--:-- --:--:--     0"
     ]
    },
    {
     "name": "stdout",
     "output_type": "stream",
     "text": [
      "Downloading file: green_tripdata_2020-09.parquet from url: \n",
      " https://d37ci6vzurychx.cloudfront.net/trip-data/green_tripdata_2020-09.parquet\n"
     ]
    },
    {
     "name": "stderr",
     "output_type": "stream",
     "text": [
      "100 1549k  100 1549k    0     0  1981k      0 --:--:-- --:--:-- --:--:-- 2007k\n",
      "  % Total    % Received % Xferd  Average Speed   Time    Time     Time  Current\n",
      "                                 Dload  Upload   Total   Spent    Left  Speed\n",
      "  0     0    0     0    0     0      0      0 --:--:-- --:--:-- --:--:--     0"
     ]
    },
    {
     "name": "stdout",
     "output_type": "stream",
     "text": [
      "Downloading file: green_tripdata_2020-10.parquet from url: \n",
      " https://d37ci6vzurychx.cloudfront.net/trip-data/green_tripdata_2020-10.parquet\n"
     ]
    },
    {
     "name": "stderr",
     "output_type": "stream",
     "text": [
      "100 1690k  100 1690k    0     0  2489k      0 --:--:-- --:--:-- --:--:-- 2526k\n",
      "  % Total    % Received % Xferd  Average Speed   Time    Time     Time  Current\n",
      "                                 Dload  Upload   Total   Spent    Left  Speed\n",
      "  0     0    0     0    0     0      0      0 --:--:-- --:--:-- --:--:--     0"
     ]
    },
    {
     "name": "stdout",
     "output_type": "stream",
     "text": [
      "Downloading file: green_tripdata_2020-11.parquet from url: \n",
      " https://d37ci6vzurychx.cloudfront.net/trip-data/green_tripdata_2020-11.parquet\n"
     ]
    },
    {
     "name": "stderr",
     "output_type": "stream",
     "text": [
      "100 1578k  100 1578k    0     0  2452k      0 --:--:-- --:--:-- --:--:-- 2493k\n",
      "  % Total    % Received % Xferd  Average Speed   Time    Time     Time  Current\n",
      "                                 Dload  Upload   Total   Spent    Left  Speed\n",
      "  0     0    0     0    0     0      0      0 --:--:-- --:--:-- --:--:--     0"
     ]
    },
    {
     "name": "stdout",
     "output_type": "stream",
     "text": [
      "Downloading file: green_tripdata_2020-12.parquet from url: \n",
      " https://d37ci6vzurychx.cloudfront.net/trip-data/green_tripdata_2020-12.parquet\n"
     ]
    },
    {
     "name": "stderr",
     "output_type": "stream",
     "text": [
      "100 1424k  100 1424k    0     0  2162k      0 --:--:-- --:--:-- --:--:-- 2197k\n"
     ]
    }
   ],
   "source": [
    "# 2020    \n",
    "for month in range(1, 13):\n",
    "\n",
    "    url: str = f'{base_url}{colors[0]}_tripdata_{years[0]}-{month:02}.parquet'\n",
    "    file_name: str = f'{colors[0]}_tripdata_{years[0]}-{month:02}.parquet'\n",
    "    raw_path: Path = Path(f'/Users/gonzo/Desktop/de_bootcamp/week_5/data/{colors[0]}/raw/')\n",
    "    \n",
    "    try:\n",
    "        print(f'Downloading file: {file_name} from url: \\n {url}')\n",
    "        os.system(f'curl -o {raw_path}/{file_name} {url}')\n",
    "    except ValueError:\n",
    "        print('URL doesn\\'t have the correct format')"
   ]
  },
  {
   "cell_type": "code",
   "execution_count": 24,
   "metadata": {},
   "outputs": [
    {
     "name": "stderr",
     "output_type": "stream",
     "text": [
      "  % Total    % Received % Xferd  Average Speed   Time    Time     Time  Current\n",
      "                                 Dload  Upload   Total   Spent    Left  Speed\n",
      "  0     0    0     0    0     0      0      0 --:--:-- --:--:-- --:--:--     0"
     ]
    },
    {
     "name": "stdout",
     "output_type": "stream",
     "text": [
      "Downloading file: green_tripdata_2021-01.parquet from url: \n",
      " https://d37ci6vzurychx.cloudfront.net/trip-data/green_tripdata_2021-01.parquet\n"
     ]
    },
    {
     "name": "stderr",
     "output_type": "stream",
     "text": [
      "100 1302k  100 1302k    0     0  1580k      0 --:--:-- --:--:-- --:--:-- 1601k\n",
      "  % Total    % Received % Xferd  Average Speed   Time    Time     Time  Current\n",
      "                                 Dload  Upload   Total   Spent    Left  Speed\n",
      "  0     0    0     0    0     0      0      0 --:--:-- --:--:-- --:--:--     0"
     ]
    },
    {
     "name": "stdout",
     "output_type": "stream",
     "text": [
      "Downloading file: green_tripdata_2021-02.parquet from url: \n",
      " https://d37ci6vzurychx.cloudfront.net/trip-data/green_tripdata_2021-02.parquet\n"
     ]
    },
    {
     "name": "stderr",
     "output_type": "stream",
     "text": [
      "100 1118k  100 1118k    0     0  1167k      0 --:--:-- --:--:-- --:--:-- 1178k\n",
      "  % Total    % Received % Xferd  Average Speed   Time    Time     Time  Current\n",
      "                                 Dload  Upload   Total   Spent    Left  Speed\n",
      "  0     0    0     0    0     0      0      0 --:--:-- --:--:-- --:--:--     0"
     ]
    },
    {
     "name": "stdout",
     "output_type": "stream",
     "text": [
      "Downloading file: green_tripdata_2021-03.parquet from url: \n",
      " https://d37ci6vzurychx.cloudfront.net/trip-data/green_tripdata_2021-03.parquet\n"
     ]
    },
    {
     "name": "stderr",
     "output_type": "stream",
     "text": [
      "100 1439k  100 1439k    0     0  1237k      0  0:00:01  0:00:01 --:--:-- 1248k\n",
      "  % Total    % Received % Xferd  Average Speed   Time    Time     Time  Current\n",
      "                                 Dload  Upload   Total   Spent    Left  Speed\n",
      "  0     0    0     0    0     0      0      0 --:--:-- --:--:-- --:--:--     0"
     ]
    },
    {
     "name": "stdout",
     "output_type": "stream",
     "text": [
      "Downloading file: green_tripdata_2021-04.parquet from url: \n",
      " https://d37ci6vzurychx.cloudfront.net/trip-data/green_tripdata_2021-04.parquet\n"
     ]
    },
    {
     "name": "stderr",
     "output_type": "stream",
     "text": [
      "100 1498k  100 1498k    0     0  1370k      0  0:00:01  0:00:01 --:--:-- 1387k\n",
      "  % Total    % Received % Xferd  Average Speed   Time    Time     Time  Current\n",
      "                                 Dload  Upload   Total   Spent    Left  Speed\n",
      "  0     0    0     0    0     0      0      0 --:--:-- --:--:-- --:--:--     0"
     ]
    },
    {
     "name": "stdout",
     "output_type": "stream",
     "text": [
      "Downloading file: green_tripdata_2021-05.parquet from url: \n",
      " https://d37ci6vzurychx.cloudfront.net/trip-data/green_tripdata_2021-05.parquet\n"
     ]
    },
    {
     "name": "stderr",
     "output_type": "stream",
     "text": [
      "100 1621k  100 1621k    0     0  1708k      0 --:--:-- --:--:-- --:--:-- 1728k\n",
      "  % Total    % Received % Xferd  Average Speed   Time    Time     Time  Current\n",
      "                                 Dload  Upload   Total   Spent    Left  Speed\n",
      "  0     0    0     0    0     0      0      0 --:--:-- --:--:-- --:--:--     0"
     ]
    },
    {
     "name": "stdout",
     "output_type": "stream",
     "text": [
      "Downloading file: green_tripdata_2021-06.parquet from url: \n",
      " https://d37ci6vzurychx.cloudfront.net/trip-data/green_tripdata_2021-06.parquet\n"
     ]
    },
    {
     "name": "stderr",
     "output_type": "stream",
     "text": [
      "100 1637k  100 1637k    0     0  1711k      0 --:--:-- --:--:-- --:--:-- 1727k\n",
      "  % Total    % Received % Xferd  Average Speed   Time    Time     Time  Current\n",
      "                                 Dload  Upload   Total   Spent    Left  Speed\n",
      "  0     0    0     0    0     0      0      0 --:--:-- --:--:-- --:--:--     0"
     ]
    },
    {
     "name": "stdout",
     "output_type": "stream",
     "text": [
      "Downloading file: green_tripdata_2021-07.parquet from url: \n",
      " https://d37ci6vzurychx.cloudfront.net/trip-data/green_tripdata_2021-07.parquet\n"
     ]
    },
    {
     "name": "stderr",
     "output_type": "stream",
     "text": [
      "100 1580k  100 1580k    0     0  1577k      0  0:00:01  0:00:01 --:--:-- 1589k\n",
      "  % Total    % Received % Xferd  Average Speed   Time    Time     Time  Current\n",
      "                                 Dload  Upload   Total   Spent    Left  Speed\n",
      "  0     0    0     0    0     0      0      0 --:--:-- --:--:-- --:--:--     0"
     ]
    },
    {
     "name": "stdout",
     "output_type": "stream",
     "text": [
      "Downloading file: green_tripdata_2021-08.parquet from url: \n",
      " https://d37ci6vzurychx.cloudfront.net/trip-data/green_tripdata_2021-08.parquet\n"
     ]
    },
    {
     "name": "stderr",
     "output_type": "stream",
     "text": [
      "100 1576k  100 1576k    0     0  1058k      0  0:00:01  0:00:01 --:--:-- 1065k\n",
      "  % Total    % Received % Xferd  Average Speed   Time    Time     Time  Current\n",
      "                                 Dload  Upload   Total   Spent    Left  Speed\n",
      "  0     0    0     0    0     0      0      0 --:--:-- --:--:-- --:--:--     0"
     ]
    },
    {
     "name": "stdout",
     "output_type": "stream",
     "text": [
      "Downloading file: green_tripdata_2021-09.parquet from url: \n",
      " https://d37ci6vzurychx.cloudfront.net/trip-data/green_tripdata_2021-09.parquet\n"
     ]
    },
    {
     "name": "stderr",
     "output_type": "stream",
     "text": [
      "100 1839k  100 1839k    0     0  1223k      0  0:00:01  0:00:01 --:--:-- 1231k\n",
      "  % Total    % Received % Xferd  Average Speed   Time    Time     Time  Current\n",
      "                                 Dload  Upload   Total   Spent    Left  Speed\n",
      "  0     0    0     0    0     0      0      0 --:--:-- --:--:-- --:--:--     0"
     ]
    },
    {
     "name": "stdout",
     "output_type": "stream",
     "text": [
      "Downloading file: green_tripdata_2021-10.parquet from url: \n",
      " https://d37ci6vzurychx.cloudfront.net/trip-data/green_tripdata_2021-10.parquet\n"
     ]
    },
    {
     "name": "stderr",
     "output_type": "stream",
     "text": [
      "100 2116k  100 2116k    0     0  1286k      0  0:00:01  0:00:01 --:--:-- 1293k\n",
      "  % Total    % Received % Xferd  Average Speed   Time    Time     Time  Current\n",
      "                                 Dload  Upload   Total   Spent    Left  Speed\n",
      "  0     0    0     0    0     0      0      0 --:--:-- --:--:-- --:--:--     0"
     ]
    },
    {
     "name": "stdout",
     "output_type": "stream",
     "text": [
      "Downloading file: green_tripdata_2021-11.parquet from url: \n",
      " https://d37ci6vzurychx.cloudfront.net/trip-data/green_tripdata_2021-11.parquet\n"
     ]
    },
    {
     "name": "stderr",
     "output_type": "stream",
     "text": [
      "100 2079k  100 2079k    0     0  1407k      0  0:00:01  0:00:01 --:--:-- 1417k\n",
      "  % Total    % Received % Xferd  Average Speed   Time    Time     Time  Current\n",
      "                                 Dload  Upload   Total   Spent    Left  Speed\n",
      "  0     0    0     0    0     0      0      0 --:--:-- --:--:-- --:--:--     0"
     ]
    },
    {
     "name": "stdout",
     "output_type": "stream",
     "text": [
      "Downloading file: green_tripdata_2021-12.parquet from url: \n",
      " https://d37ci6vzurychx.cloudfront.net/trip-data/green_tripdata_2021-12.parquet\n"
     ]
    },
    {
     "name": "stderr",
     "output_type": "stream",
     "text": [
      "100 1961k  100 1961k    0     0  1844k      0  0:00:01  0:00:01 --:--:-- 1864k\n"
     ]
    }
   ],
   "source": [
    "#2021\n",
    "for month in range(1, 13):\n",
    "\n",
    "    url: str = f'{base_url}{colors[0]}_tripdata_{years[1]}-{month:02}.parquet'\n",
    "    file_name: str = f'{colors[0]}_tripdata_{years[1]}-{month:02}.parquet'\n",
    "    raw_path: Path = Path(f'/Users/gonzo/Desktop/de_bootcamp/week_5/data/{colors[0]}/raw/')\n",
    "    \n",
    "    try:\n",
    "        print(f'Downloading file: {file_name} from url: \\n {url}')\n",
    "        os.system(f'curl -o {raw_path}/{file_name} {url}')\n",
    "    except ValueError:\n",
    "        print('URL doesn\\'t have the correct format')\n"
   ]
  },
  {
   "cell_type": "markdown",
   "metadata": {},
   "source": [
    "# Download Yellow files "
   ]
  },
  {
   "cell_type": "code",
   "execution_count": 25,
   "metadata": {},
   "outputs": [
    {
     "name": "stdout",
     "output_type": "stream",
     "text": [
      "Downloading file: yellow_tripdata_2020-01.parquet from url: \n",
      " https://d37ci6vzurychx.cloudfront.net/trip-data/yellow_tripdata_2020-01.parquet\n"
     ]
    },
    {
     "name": "stderr",
     "output_type": "stream",
     "text": [
      "  % Total    % Received % Xferd  Average Speed   Time    Time     Time  Current\n",
      "                                 Dload  Upload   Total   Spent    Left  Speed\n",
      "100 89.2M  100 89.2M    0     0  3643k      0  0:00:25  0:00:25 --:--:-- 3979k\n",
      "  % Total    % Received % Xferd  Average Speed   Time    Time     Time  Current\n",
      "                                 Dload  Upload   Total   Spent    Left  Speed\n",
      "  0     0    0     0    0     0      0      0 --:--:-- --:--:-- --:--:--     0"
     ]
    },
    {
     "name": "stdout",
     "output_type": "stream",
     "text": [
      "Downloading file: yellow_tripdata_2020-02.parquet from url: \n",
      " https://d37ci6vzurychx.cloudfront.net/trip-data/yellow_tripdata_2020-02.parquet\n"
     ]
    },
    {
     "name": "stderr",
     "output_type": "stream",
     "text": [
      "100 87.8M  100 87.8M    0     0  3913k      0  0:00:22  0:00:22 --:--:-- 4117k\n",
      "  % Total    % Received % Xferd  Average Speed   Time    Time     Time  Current\n",
      "                                 Dload  Upload   Total   Spent    Left  Speed\n",
      "  0     0    0     0    0     0      0      0 --:--:-- --:--:-- --:--:--     0"
     ]
    },
    {
     "name": "stdout",
     "output_type": "stream",
     "text": [
      "Downloading file: yellow_tripdata_2020-03.parquet from url: \n",
      " https://d37ci6vzurychx.cloudfront.net/trip-data/yellow_tripdata_2020-03.parquet\n"
     ]
    },
    {
     "name": "stderr",
     "output_type": "stream",
     "text": [
      "100 42.3M  100 42.3M    0     0  4467k      0  0:00:09  0:00:09 --:--:-- 4836k\n",
      "  % Total    % Received % Xferd  Average Speed   Time    Time     Time  Current\n",
      "                                 Dload  Upload   Total   Spent    Left  Speed\n",
      "  0     0    0     0    0     0      0      0 --:--:-- --:--:-- --:--:--     0"
     ]
    },
    {
     "name": "stdout",
     "output_type": "stream",
     "text": [
      "Downloading file: yellow_tripdata_2020-04.parquet from url: \n",
      " https://d37ci6vzurychx.cloudfront.net/trip-data/yellow_tripdata_2020-04.parquet\n"
     ]
    },
    {
     "name": "stderr",
     "output_type": "stream",
     "text": [
      "100 4338k  100 4338k    0     0  2930k      0  0:00:01  0:00:01 --:--:-- 2949k\n",
      "  % Total    % Received % Xferd  Average Speed   Time    Time     Time  Current\n",
      "                                 Dload  Upload   Total   Spent    Left  Speed\n",
      "  0     0    0     0    0     0      0      0 --:--:-- --:--:-- --:--:--     0"
     ]
    },
    {
     "name": "stdout",
     "output_type": "stream",
     "text": [
      "Downloading file: yellow_tripdata_2020-05.parquet from url: \n",
      " https://d37ci6vzurychx.cloudfront.net/trip-data/yellow_tripdata_2020-05.parquet\n"
     ]
    },
    {
     "name": "stderr",
     "output_type": "stream",
     "text": [
      "100 6083k  100 6083k    0     0  1940k      0  0:00:03  0:00:03 --:--:-- 1948k\n",
      "  % Total    % Received % Xferd  Average Speed   Time    Time     Time  Current\n",
      "                                 Dload  Upload   Total   Spent    Left  Speed\n",
      "  0     0    0     0    0     0      0      0 --:--:-- --:--:-- --:--:--     0"
     ]
    },
    {
     "name": "stdout",
     "output_type": "stream",
     "text": [
      "Downloading file: yellow_tripdata_2020-06.parquet from url: \n",
      " https://d37ci6vzurychx.cloudfront.net/trip-data/yellow_tripdata_2020-06.parquet\n"
     ]
    },
    {
     "name": "stderr",
     "output_type": "stream",
     "text": [
      "100 9282k  100 9282k    0     0  3319k      0  0:00:02  0:00:02 --:--:-- 3329k\n",
      "  % Total    % Received % Xferd  Average Speed   Time    Time     Time  Current\n",
      "                                 Dload  Upload   Total   Spent    Left  Speed\n",
      "  0     0    0     0    0     0      0      0 --:--:-- --:--:-- --:--:--     0"
     ]
    },
    {
     "name": "stdout",
     "output_type": "stream",
     "text": [
      "Downloading file: yellow_tripdata_2020-07.parquet from url: \n",
      " https://d37ci6vzurychx.cloudfront.net/trip-data/yellow_tripdata_2020-07.parquet\n"
     ]
    },
    {
     "name": "stderr",
     "output_type": "stream",
     "text": [
      "100 12.7M  100 12.7M    0     0  4190k      0  0:00:03  0:00:03 --:--:-- 4203k\n",
      "  % Total    % Received % Xferd  Average Speed   Time    Time     Time  Current\n",
      "                                 Dload  Upload   Total   Spent    Left  Speed\n",
      "  0     0    0     0    0     0      0      0 --:--:-- --:--:-- --:--:--     0"
     ]
    },
    {
     "name": "stdout",
     "output_type": "stream",
     "text": [
      "Downloading file: yellow_tripdata_2020-08.parquet from url: \n",
      " https://d37ci6vzurychx.cloudfront.net/trip-data/yellow_tripdata_2020-08.parquet\n"
     ]
    },
    {
     "name": "stderr",
     "output_type": "stream",
     "text": [
      "100 15.8M  100 15.8M    0     0  2243k      0  0:00:07  0:00:07 --:--:-- 2239k\n",
      "  % Total    % Received % Xferd  Average Speed   Time    Time     Time  Current\n",
      "                                 Dload  Upload   Total   Spent    Left  Speed\n",
      "  0     0    0     0    0     0      0      0 --:--:-- --:--:-- --:--:--     0"
     ]
    },
    {
     "name": "stdout",
     "output_type": "stream",
     "text": [
      "Downloading file: yellow_tripdata_2020-09.parquet from url: \n",
      " https://d37ci6vzurychx.cloudfront.net/trip-data/yellow_tripdata_2020-09.parquet\n"
     ]
    },
    {
     "name": "stderr",
     "output_type": "stream",
     "text": [
      "100 20.3M  100 20.3M    0     0  3203k      0  0:00:06  0:00:06 --:--:-- 3631k\n",
      "  % Total    % Received % Xferd  Average Speed   Time    Time     Time  Current\n",
      "                                 Dload  Upload   Total   Spent    Left  Speed\n",
      "  0     0    0     0    0     0      0      0 --:--:-- --:--:-- --:--:--     0"
     ]
    },
    {
     "name": "stdout",
     "output_type": "stream",
     "text": [
      "Downloading file: yellow_tripdata_2020-10.parquet from url: \n",
      " https://d37ci6vzurychx.cloudfront.net/trip-data/yellow_tripdata_2020-10.parquet\n"
     ]
    },
    {
     "name": "stderr",
     "output_type": "stream",
     "text": [
      "100 25.0M  100 25.0M    0     0  2814k      0  0:00:09  0:00:09 --:--:-- 2490k\n",
      "  % Total    % Received % Xferd  Average Speed   Time    Time     Time  Current\n",
      "                                 Dload  Upload   Total   Spent    Left  Speed\n",
      "  0     0    0     0    0     0      0      0 --:--:-- --:--:-- --:--:--     0"
     ]
    },
    {
     "name": "stdout",
     "output_type": "stream",
     "text": [
      "Downloading file: yellow_tripdata_2020-11.parquet from url: \n",
      " https://d37ci6vzurychx.cloudfront.net/trip-data/yellow_tripdata_2020-11.parquet\n"
     ]
    },
    {
     "name": "stderr",
     "output_type": "stream",
     "text": [
      "100 22.4M  100 22.4M    0     0  2952k      0  0:00:07  0:00:07 --:--:-- 3592k\n",
      "  % Total    % Received % Xferd  Average Speed   Time    Time     Time  Current\n",
      "                                 Dload  Upload   Total   Spent    Left  Speed\n",
      "  0     0    0     0    0     0      0      0 --:--:-- --:--:-- --:--:--     0"
     ]
    },
    {
     "name": "stdout",
     "output_type": "stream",
     "text": [
      "Downloading file: yellow_tripdata_2020-12.parquet from url: \n",
      " https://d37ci6vzurychx.cloudfront.net/trip-data/yellow_tripdata_2020-12.parquet\n"
     ]
    },
    {
     "name": "stderr",
     "output_type": "stream",
     "text": [
      "100 21.9M  100 21.9M    0     0  3428k      0  0:00:06  0:00:06 --:--:-- 3698k\n"
     ]
    }
   ],
   "source": [
    "# 2020\n",
    "for month in range(1, 13):\n",
    "\n",
    "    url: str = f'{base_url}{colors[1]}_tripdata_{years[0]}-{month:02}.parquet'\n",
    "    file_name: str = f'{colors[1]}_tripdata_{years[0]}-{month:02}.parquet'\n",
    "    raw_path: Path = Path(f'/Users/gonzo/Desktop/de_bootcamp/week_5/data/{colors[1]}/raw/')\n",
    "\n",
    "    try:\n",
    "        print(f'Downloading file: {file_name} from url: \\n {url}')\n",
    "        os.system(f'curl -o {raw_path}/{file_name} {url}')\n",
    "    except ValueError:\n",
    "        print('URL doesn\\'t have the correct format')"
   ]
  },
  {
   "cell_type": "code",
   "execution_count": 27,
   "metadata": {},
   "outputs": [
    {
     "name": "stdout",
     "output_type": "stream",
     "text": [
      "Downloading file: yellow_tripdata_2021-01.parquet from url: \n",
      " https://d37ci6vzurychx.cloudfront.net/trip-data/yellow_tripdata_2021-01.parquet\n"
     ]
    },
    {
     "name": "stderr",
     "output_type": "stream",
     "text": [
      "  % Total    % Received % Xferd  Average Speed   Time    Time     Time  Current\n",
      "                                 Dload  Upload   Total   Spent    Left  Speed\n",
      "100 20.6M  100 20.6M    0     0  1845k      0  0:00:11  0:00:11 --:--:-- 2991k\n",
      "  % Total    % Received % Xferd  Average Speed   Time    Time     Time  Current\n",
      "                                 Dload  Upload   Total   Spent    Left  Speed\n",
      "  0     0    0     0    0     0      0      0 --:--:-- --:--:-- --:--:--     0"
     ]
    },
    {
     "name": "stdout",
     "output_type": "stream",
     "text": [
      "Downloading file: yellow_tripdata_2021-02.parquet from url: \n",
      " https://d37ci6vzurychx.cloudfront.net/trip-data/yellow_tripdata_2021-02.parquet\n"
     ]
    },
    {
     "name": "stderr",
     "output_type": "stream",
     "text": [
      "100 20.7M  100 20.7M    0     0  4516k      0  0:00:04  0:00:04 --:--:-- 4524k\n",
      "  % Total    % Received % Xferd  Average Speed   Time    Time     Time  Current\n",
      "                                 Dload  Upload   Total   Spent    Left  Speed\n",
      "  0     0    0     0    0     0      0      0 --:--:-- --:--:-- --:--:--     0"
     ]
    },
    {
     "name": "stdout",
     "output_type": "stream",
     "text": [
      "Downloading file: yellow_tripdata_2021-03.parquet from url: \n",
      " https://d37ci6vzurychx.cloudfront.net/trip-data/yellow_tripdata_2021-03.parquet\n"
     ]
    },
    {
     "name": "stderr",
     "output_type": "stream",
     "text": [
      "100 28.6M  100 28.6M    0     0  4436k      0  0:00:06  0:00:06 --:--:-- 5736k\n",
      "  % Total    % Received % Xferd  Average Speed   Time    Time     Time  Current\n",
      "                                 Dload  Upload   Total   Spent    Left  Speed\n",
      "  0     0    0     0    0     0      0      0 --:--:-- --:--:-- --:--:--     0"
     ]
    },
    {
     "name": "stdout",
     "output_type": "stream",
     "text": [
      "Downloading file: yellow_tripdata_2021-04.parquet from url: \n",
      " https://d37ci6vzurychx.cloudfront.net/trip-data/yellow_tripdata_2021-04.parquet\n"
     ]
    },
    {
     "name": "stderr",
     "output_type": "stream",
     "text": [
      "100 32.4M  100 32.4M    0     0  5244k      0  0:00:06  0:00:06 --:--:-- 5709k\n",
      "  % Total    % Received % Xferd  Average Speed   Time    Time     Time  Current\n",
      "                                 Dload  Upload   Total   Spent    Left  Speed\n",
      "  0     0    0     0    0     0      0      0 --:--:-- --:--:-- --:--:--     0"
     ]
    },
    {
     "name": "stdout",
     "output_type": "stream",
     "text": [
      "Downloading file: yellow_tripdata_2021-05.parquet from url: \n",
      " https://d37ci6vzurychx.cloudfront.net/trip-data/yellow_tripdata_2021-05.parquet\n"
     ]
    },
    {
     "name": "stderr",
     "output_type": "stream",
     "text": [
      "100 36.9M  100 36.9M    0     0  5379k      0  0:00:07  0:00:07 --:--:-- 6138k\n",
      "  % Total    % Received % Xferd  Average Speed   Time    Time     Time  Current\n",
      "                                 Dload  Upload   Total   Spent    Left  Speed\n",
      "  0     0    0     0    0     0      0      0 --:--:-- --:--:-- --:--:--     0"
     ]
    },
    {
     "name": "stdout",
     "output_type": "stream",
     "text": [
      "Downloading file: yellow_tripdata_2021-06.parquet from url: \n",
      " https://d37ci6vzurychx.cloudfront.net/trip-data/yellow_tripdata_2021-06.parquet\n"
     ]
    },
    {
     "name": "stderr",
     "output_type": "stream",
     "text": [
      "100 42.0M  100 42.0M    0     0  5022k      0  0:00:08  0:00:08 --:--:-- 5459k\n",
      "  % Total    % Received % Xferd  Average Speed   Time    Time     Time  Current\n",
      "                                 Dload  Upload   Total   Spent    Left  Speed\n",
      "  0     0    0     0    0     0      0      0 --:--:-- --:--:-- --:--:--     0"
     ]
    },
    {
     "name": "stdout",
     "output_type": "stream",
     "text": [
      "Downloading file: yellow_tripdata_2021-07.parquet from url: \n",
      " https://d37ci6vzurychx.cloudfront.net/trip-data/yellow_tripdata_2021-07.parquet\n"
     ]
    },
    {
     "name": "stderr",
     "output_type": "stream",
     "text": [
      "100 41.6M  100 41.6M    0     0  4103k      0  0:00:10  0:00:10 --:--:-- 4376k\n",
      "  % Total    % Received % Xferd  Average Speed   Time    Time     Time  Current\n",
      "                                 Dload  Upload   Total   Spent    Left  Speed\n",
      "  0     0    0     0    0     0      0      0 --:--:-- --:--:-- --:--:--     0"
     ]
    },
    {
     "name": "stdout",
     "output_type": "stream",
     "text": [
      "Downloading file: yellow_tripdata_2021-08.parquet from url: \n",
      " https://d37ci6vzurychx.cloudfront.net/trip-data/yellow_tripdata_2021-08.parquet\n"
     ]
    },
    {
     "name": "stderr",
     "output_type": "stream",
     "text": [
      "100 41.4M  100 41.4M    0     0  6367k      0  0:00:06  0:00:06 --:--:-- 7186k\n",
      "  % Total    % Received % Xferd  Average Speed   Time    Time     Time  Current\n",
      "                                 Dload  Upload   Total   Spent    Left  Speed\n",
      "  0     0    0     0    0     0      0      0 --:--:-- --:--:-- --:--:--     0"
     ]
    },
    {
     "name": "stdout",
     "output_type": "stream",
     "text": [
      "Downloading file: yellow_tripdata_2021-09.parquet from url: \n",
      " https://d37ci6vzurychx.cloudfront.net/trip-data/yellow_tripdata_2021-09.parquet\n"
     ]
    },
    {
     "name": "stderr",
     "output_type": "stream",
     "text": [
      "100 43.9M  100 43.9M    0     0  6294k      0  0:00:07  0:00:07 --:--:-- 6736k\n",
      "  % Total    % Received % Xferd  Average Speed   Time    Time     Time  Current\n",
      "                                 Dload  Upload   Total   Spent    Left  Speed\n",
      "  0     0    0     0    0     0      0      0 --:--:-- --:--:-- --:--:--     0"
     ]
    },
    {
     "name": "stdout",
     "output_type": "stream",
     "text": [
      "Downloading file: yellow_tripdata_2021-10.parquet from url: \n",
      " https://d37ci6vzurychx.cloudfront.net/trip-data/yellow_tripdata_2021-10.parquet\n"
     ]
    },
    {
     "name": "stderr",
     "output_type": "stream",
     "text": [
      "100 50.8M  100 50.8M    0     0  5094k      0  0:00:10  0:00:10 --:--:-- 5812k\n",
      "  % Total    % Received % Xferd  Average Speed   Time    Time     Time  Current\n",
      "                                 Dload  Upload   Total   Spent    Left  Speed\n",
      "  0     0    0     0    0     0      0      0 --:--:-- --:--:-- --:--:--     0"
     ]
    },
    {
     "name": "stdout",
     "output_type": "stream",
     "text": [
      "Downloading file: yellow_tripdata_2021-11.parquet from url: \n",
      " https://d37ci6vzurychx.cloudfront.net/trip-data/yellow_tripdata_2021-11.parquet\n"
     ]
    },
    {
     "name": "stderr",
     "output_type": "stream",
     "text": [
      "100 50.6M  100 50.6M    0     0  5414k      0  0:00:09  0:00:09 --:--:-- 5944k\n",
      "  % Total    % Received % Xferd  Average Speed   Time    Time     Time  Current\n",
      "                                 Dload  Upload   Total   Spent    Left  Speed\n",
      "  0     0    0     0    0     0      0      0 --:--:-- --:--:-- --:--:--     0"
     ]
    },
    {
     "name": "stdout",
     "output_type": "stream",
     "text": [
      "Downloading file: yellow_tripdata_2021-12.parquet from url: \n",
      " https://d37ci6vzurychx.cloudfront.net/trip-data/yellow_tripdata_2021-12.parquet\n"
     ]
    },
    {
     "name": "stderr",
     "output_type": "stream",
     "text": [
      "100 47.3M  100 47.3M    0     0  5696k      0  0:00:08  0:00:08 --:--:-- 6279k\n"
     ]
    }
   ],
   "source": [
    "# 2021\n",
    "for month in range(1, 13):\n",
    "\n",
    "    url: str = f'{base_url}{colors[1]}_tripdata_{years[1]}-{month:02}.parquet'\n",
    "    file_name: str = f'{colors[1]}_tripdata_{years[1]}-{month:02}.parquet'\n",
    "    raw_path: Path = Path(f'/Users/gonzo/Desktop/de_bootcamp/week_5/data/{colors[1]}/raw/')\n",
    "\n",
    "    try:\n",
    "        print(f'Downloading file: {file_name} from url: \\n {url}')\n",
    "        os.system(f'curl -o {raw_path}/{file_name} {url}')\n",
    "    except ValueError:\n",
    "        print('URL doesn\\'t have the correct format')"
   ]
  },
  {
   "cell_type": "markdown",
   "metadata": {},
   "source": [
    "# Apply schema for green and yellow files"
   ]
  },
  {
   "cell_type": "code",
   "execution_count": 4,
   "metadata": {},
   "outputs": [],
   "source": [
    "green_schema = types.StructType([\n",
    "    types.StructField('VendorID', types.LongType(), nullable=True),\n",
    "    types.StructField('lpep_pickup_datetime', types.TimestampType(), nullable=True),\n",
    "    types.StructField('lpep_dropoff_datetime', types.TimestampType(), nullable=True),\n",
    "    types.StructField('store_and_fwd_flag', types.StringType(), nullable=True),\n",
    "    types.StructField('RatecodeID', types.DoubleType(), nullable=True),\n",
    "    types.StructField('PULocationID', types.LongType(), nullable=True),\n",
    "    types.StructField('DOLocationID', types.LongType(), nullable=True),\n",
    "    types.StructField('passenger_count', types.DoubleType(), nullable=True),\n",
    "    types.StructField('trip_distance', types.DoubleType(), nullable=True),\n",
    "    types.StructField('fare_amount', types.DoubleType(), nullable=True),\n",
    "    types.StructField('extra', types.DoubleType(), nullable=True),\n",
    "    types.StructField('mta_tax', types.DoubleType(), nullable=True),\n",
    "    types.StructField('tip_amount', types.DoubleType(), nullable=True),\n",
    "    types.StructField('tolls_amount', types.DoubleType(), nullable=True),\n",
    "    types.StructField('ehail_fee', types.IntegerType(), nullable=True),\n",
    "    types.StructField('improvement_surcharge', types.DoubleType(), nullable=True),\n",
    "    types.StructField('total_amount', types.DoubleType(), nullable=True),\n",
    "    types.StructField('payment_type', types.DoubleType(), nullable=True),\n",
    "    types.StructField('trip_type', types.DoubleType(), nullable=True),\n",
    "    types.StructField('congestion_surcharge', types.DoubleType(), nullable=True)])"
   ]
  },
  {
   "cell_type": "code",
   "execution_count": 41,
   "metadata": {},
   "outputs": [],
   "source": [
    "yellow_schema = types.StructType([\n",
    "                types.StructField('VendorID', types.LongType(), True), \n",
    "                types.StructField('tpep_pickup_datetime', types.TimestampType(), True), \n",
    "                types.StructField('tpep_dropoff_datetime', types.TimestampType(), True), \n",
    "                types.StructField('passenger_count', types.DoubleType(), True), \n",
    "                types.StructField('trip_distance', types.DoubleType(), True), \n",
    "                types.StructField('RatecodeID', types.DoubleType(), True), \n",
    "                types.StructField('store_and_fwd_flag', types.StringType(), True), \n",
    "                types.StructField('PULocationID', types.LongType(), True), \n",
    "                types.StructField('DOLocationID', types.LongType(), True), \n",
    "                types.StructField('payment_type', types.LongType(), True), \n",
    "                types.StructField('fare_amount', types.DoubleType(), True), \n",
    "                types.StructField('extra', types.DoubleType(), True), \n",
    "                types.StructField('mta_tax', types.DoubleType(), True), \n",
    "                types.StructField('tip_amount', types.DoubleType(), True), \n",
    "                types.StructField('tolls_amount', types.DoubleType(), True), \n",
    "                types.StructField('improvement_surcharge', types.DoubleType(), True), \n",
    "                types.StructField('total_amount', types.DoubleType(), True), \n",
    "                types.StructField('congestion_surcharge', types.DoubleType(), True), \n",
    "                types.StructField('airport_fee', types.DoubleType(), True)])"
   ]
  },
  {
   "cell_type": "markdown",
   "metadata": {},
   "source": [
    "## Green"
   ]
  },
  {
   "cell_type": "code",
   "execution_count": 8,
   "metadata": {},
   "outputs": [
    {
     "name": "stderr",
     "output_type": "stream",
     "text": [
      "                                                                                \r"
     ]
    }
   ],
   "source": [
    "# Green files 2020\n",
    "for month in range (1,13):\n",
    "\n",
    "    raw_path: Path = Path(f'/Users/gonzo/Desktop/de_bootcamp/week_5/data/{colors[0]}/raw')\n",
    "    file_name: str = f'{colors[0]}_tripdata_{years[0]}-{month:02}.parquet'\n",
    "    processed_path: str = (f'/Users/gonzo/Desktop/de_bootcamp/week_5/data/{colors[0]}/processed/{years[0]}')\n",
    "\n",
    "    green_df = spark.read.format('parquet') \\\n",
    "                    .schema(green_schema) \\\n",
    "                    .load(f'{raw_path}/{file_name}')\n",
    "\n",
    "    green_df.repartition(4).write.parquet(f'{processed_path}/{month}')"
   ]
  },
  {
   "cell_type": "code",
   "execution_count": 9,
   "metadata": {},
   "outputs": [],
   "source": [
    "# Green files 2021\n",
    "for month in range (1,13):\n",
    "\n",
    "    raw_path: Path = Path(f'/Users/gonzo/Desktop/de_bootcamp/week_5/data/{colors[0]}/raw')\n",
    "    file_name: str = f'{colors[0]}_tripdata_{years[1]}-{month:02}.parquet'\n",
    "    processed_path: str = (f'/Users/gonzo/Desktop/de_bootcamp/week_5/data/{colors[0]}/processed/{years[1]}')\n",
    "\n",
    "    green_df = spark.read.format('parquet') \\\n",
    "                    .schema(green_schema) \\\n",
    "                    .load(f'{raw_path}/{file_name}')\n",
    "\n",
    "    green_df.repartition(4).write.parquet(f'{processed_path}/{month}')"
   ]
  },
  {
   "cell_type": "markdown",
   "metadata": {},
   "source": [
    "## Yellow"
   ]
  },
  {
   "cell_type": "code",
   "execution_count": 55,
   "metadata": {},
   "outputs": [
    {
     "name": "stdout",
     "output_type": "stream",
     "text": [
      "Casting airport fee into DoubleType and then changing record\n"
     ]
    },
    {
     "name": "stderr",
     "output_type": "stream",
     "text": [
      "                                                                                \r"
     ]
    },
    {
     "name": "stdout",
     "output_type": "stream",
     "text": [
      "Casting airport fee into DoubleType and then changing record\n"
     ]
    },
    {
     "name": "stderr",
     "output_type": "stream",
     "text": [
      "                                                                                \r"
     ]
    },
    {
     "name": "stdout",
     "output_type": "stream",
     "text": [
      "Casting airport fee into DoubleType and then changing record\n"
     ]
    },
    {
     "name": "stderr",
     "output_type": "stream",
     "text": [
      "                                                                                \r"
     ]
    },
    {
     "name": "stdout",
     "output_type": "stream",
     "text": [
      "Casting airport fee into DoubleType and then changing record\n",
      "Casting airport fee into DoubleType and then changing record\n"
     ]
    },
    {
     "name": "stderr",
     "output_type": "stream",
     "text": [
      "                                                                                \r"
     ]
    },
    {
     "name": "stdout",
     "output_type": "stream",
     "text": [
      "Casting airport fee into DoubleType and then changing record\n"
     ]
    },
    {
     "name": "stderr",
     "output_type": "stream",
     "text": [
      "                                                                                \r"
     ]
    },
    {
     "name": "stdout",
     "output_type": "stream",
     "text": [
      "Casting airport fee into DoubleType and then changing record\n"
     ]
    },
    {
     "name": "stderr",
     "output_type": "stream",
     "text": [
      "                                                                                \r"
     ]
    },
    {
     "name": "stdout",
     "output_type": "stream",
     "text": [
      "Parquet column airpot_fee already has a DoubleType\n"
     ]
    },
    {
     "name": "stderr",
     "output_type": "stream",
     "text": [
      "                                                                                \r"
     ]
    },
    {
     "name": "stdout",
     "output_type": "stream",
     "text": [
      "Casting airport fee into DoubleType and then changing record\n"
     ]
    },
    {
     "name": "stderr",
     "output_type": "stream",
     "text": [
      "                                                                                \r"
     ]
    },
    {
     "name": "stdout",
     "output_type": "stream",
     "text": [
      "Casting airport fee into DoubleType and then changing record\n"
     ]
    },
    {
     "name": "stderr",
     "output_type": "stream",
     "text": [
      "                                                                                \r"
     ]
    },
    {
     "name": "stdout",
     "output_type": "stream",
     "text": [
      "Casting airport fee into DoubleType and then changing record\n"
     ]
    },
    {
     "name": "stderr",
     "output_type": "stream",
     "text": [
      "                                                                                \r"
     ]
    },
    {
     "name": "stdout",
     "output_type": "stream",
     "text": [
      "Casting airport fee into DoubleType and then changing record\n"
     ]
    },
    {
     "name": "stderr",
     "output_type": "stream",
     "text": [
      "                                                                                \r"
     ]
    }
   ],
   "source": [
    "# Yellow files 2020\n",
    "for month in range (1,13):\n",
    "\n",
    "    raw_path: Path = Path(f'/Users/gonzo/Desktop/de_bootcamp/week_5/data/{colors[1]}/raw')\n",
    "    file_name: str = f'{colors[1]}_tripdata_{years[0]}-{month:02}.parquet'\n",
    "    processed_path: str = (f'/Users/gonzo/Desktop/de_bootcamp/week_5/data/{colors[1]}/processed/{years[0]}')\n",
    "\n",
    "    if month == 8:\n",
    "        print('Parquet column airpot_fee already has a DoubleType')\n",
    "        yellow_df = spark.read.format(\"parquet\") \\\n",
    "                        .option(\"mergeSchema\", \"true\") \\\n",
    "                        .schema(yellow_schema) \\\n",
    "                        .load(f'{raw_path}/{file_name}')  \n",
    "    else:         \n",
    "        print('Casting airport fee into DoubleType and then changing record')           \n",
    "        yellow_df = spark.read.parquet(f'{raw_path}/{file_name}')\n",
    "        yellow_df = yellow_df.withColumn('airport_fee',  yellow_df[\"airport_fee\"].cast(types.DoubleType()))\n",
    "        yellow_df = yellow_df.withColumn(\"airport_fee\", format_number(yellow_df['airport_fee'], 2))    \n",
    "    \n",
    "    yellow_df.repartition(4).write.parquet(f'{processed_path}/{month}')"
   ]
  },
  {
   "cell_type": "code",
   "execution_count": 56,
   "metadata": {},
   "outputs": [
    {
     "name": "stdout",
     "output_type": "stream",
     "text": [
      "Casting airport fee into DoubleType and then changing record\n"
     ]
    },
    {
     "name": "stderr",
     "output_type": "stream",
     "text": [
      "                                                                                \r"
     ]
    },
    {
     "name": "stdout",
     "output_type": "stream",
     "text": [
      "Casting airport fee into DoubleType and then changing record\n"
     ]
    },
    {
     "name": "stderr",
     "output_type": "stream",
     "text": [
      "                                                                                \r"
     ]
    },
    {
     "name": "stdout",
     "output_type": "stream",
     "text": [
      "Casting airport fee into DoubleType and then changing record\n"
     ]
    },
    {
     "name": "stderr",
     "output_type": "stream",
     "text": [
      "                                                                                \r"
     ]
    },
    {
     "name": "stdout",
     "output_type": "stream",
     "text": [
      "Casting airport fee into DoubleType and then changing record\n"
     ]
    },
    {
     "name": "stderr",
     "output_type": "stream",
     "text": [
      "                                                                                \r"
     ]
    },
    {
     "name": "stdout",
     "output_type": "stream",
     "text": [
      "Casting airport fee into DoubleType and then changing record\n"
     ]
    },
    {
     "name": "stderr",
     "output_type": "stream",
     "text": [
      "                                                                                \r"
     ]
    },
    {
     "name": "stdout",
     "output_type": "stream",
     "text": [
      "Casting airport fee into DoubleType and then changing record\n"
     ]
    },
    {
     "name": "stderr",
     "output_type": "stream",
     "text": [
      "                                                                                \r"
     ]
    },
    {
     "name": "stdout",
     "output_type": "stream",
     "text": [
      "Casting airport fee into DoubleType and then changing record\n"
     ]
    },
    {
     "name": "stderr",
     "output_type": "stream",
     "text": [
      "                                                                                \r"
     ]
    },
    {
     "name": "stdout",
     "output_type": "stream",
     "text": [
      "Parquet column airpot_fee already has a DoubleType\n"
     ]
    },
    {
     "name": "stderr",
     "output_type": "stream",
     "text": [
      "                                                                                \r"
     ]
    },
    {
     "name": "stdout",
     "output_type": "stream",
     "text": [
      "Casting airport fee into DoubleType and then changing record\n"
     ]
    },
    {
     "name": "stderr",
     "output_type": "stream",
     "text": [
      "                                                                                \r"
     ]
    },
    {
     "name": "stdout",
     "output_type": "stream",
     "text": [
      "Casting airport fee into DoubleType and then changing record\n"
     ]
    },
    {
     "name": "stderr",
     "output_type": "stream",
     "text": [
      "                                                                                \r"
     ]
    },
    {
     "name": "stdout",
     "output_type": "stream",
     "text": [
      "Casting airport fee into DoubleType and then changing record\n"
     ]
    },
    {
     "name": "stderr",
     "output_type": "stream",
     "text": [
      "                                                                                \r"
     ]
    },
    {
     "name": "stdout",
     "output_type": "stream",
     "text": [
      "Casting airport fee into DoubleType and then changing record\n"
     ]
    },
    {
     "name": "stderr",
     "output_type": "stream",
     "text": [
      "                                                                                \r"
     ]
    }
   ],
   "source": [
    "# Yellow files 2021\n",
    "for month in range (1,13):\n",
    "\n",
    "    raw_path: Path = Path(f'/Users/gonzo/Desktop/de_bootcamp/week_5/data/{colors[1]}/raw')\n",
    "    file_name: str = f'{colors[1]}_tripdata_{years[1]}-{month:02}.parquet'\n",
    "    processed_path: str = (f'/Users/gonzo/Desktop/de_bootcamp/week_5/data/{colors[1]}/processed/{years[1]}')\n",
    "\n",
    "    if month == 8:\n",
    "        print('Parquet column airpot_fee already has a DoubleType')\n",
    "        yellow_df = spark.read.format(\"parquet\") \\\n",
    "                        .option(\"mergeSchema\", \"true\") \\\n",
    "                        .schema(yellow_schema) \\\n",
    "                        .load(f'{raw_path}/{file_name}')  \n",
    "    else:         \n",
    "        print('Casting airport fee into DoubleType and then changing record')           \n",
    "        yellow_df = spark.read.parquet(f'{raw_path}/{file_name}')\n",
    "        yellow_df = yellow_df.withColumn('airport_fee',  yellow_df[\"airport_fee\"].cast(types.DoubleType()))\n",
    "        yellow_df = yellow_df.withColumn(\"airport_fee\", format_number(yellow_df['airport_fee'], 2))    \n",
    "    \n",
    "    yellow_df.repartition(4).write.parquet(f'{processed_path}/{month}')"
   ]
  }
 ],
 "metadata": {
  "kernelspec": {
   "display_name": "Python 3 (ipykernel)",
   "language": "python",
   "name": "python3"
  },
  "language_info": {
   "codemirror_mode": {
    "name": "ipython",
    "version": 3
   },
   "file_extension": ".py",
   "mimetype": "text/x-python",
   "name": "python",
   "nbconvert_exporter": "python",
   "pygments_lexer": "ipython3",
   "version": "3.10.9"
  },
  "orig_nbformat": 4
 },
 "nbformat": 4,
 "nbformat_minor": 2
}
