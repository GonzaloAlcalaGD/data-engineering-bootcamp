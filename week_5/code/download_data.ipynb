{
 "cells": [
  {
   "cell_type": "code",
   "execution_count": 7,
   "metadata": {},
   "outputs": [],
   "source": [
    "import os\n",
    "from pathlib import Path"
   ]
  },
  {
   "cell_type": "code",
   "execution_count": 15,
   "metadata": {},
   "outputs": [
    {
     "name": "stdout",
     "output_type": "stream",
     "text": [
      "Downloading file: green_tripdata_2020-01.parquet from url: \n",
      " https://d37ci6vzurychx.cloudfront.net/trip-data/green_tripdata_2020-01.parquet\n"
     ]
    },
    {
     "name": "stderr",
     "output_type": "stream",
     "text": [
      "  % Total    % Received % Xferd  Average Speed   Time    Time     Time  Current\n",
      "                                 Dload  Upload   Total   Spent    Left  Speed\n",
      "100 7014k  100 7014k    0     0  1847k      0  0:00:03  0:00:03 --:--:-- 1852k\n",
      "  % Total    % Received % Xferd  Average Speed   Time    Time     Time  Current\n",
      "                                 Dload  Upload   Total   Spent    Left  Speed\n",
      "  0     0    0     0    0     0      0      0 --:--:-- --:--:-- --:--:--     0"
     ]
    },
    {
     "name": "stdout",
     "output_type": "stream",
     "text": [
      "Downloading file: green_tripdata_2020-02.parquet from url: \n",
      " https://d37ci6vzurychx.cloudfront.net/trip-data/green_tripdata_2020-02.parquet\n"
     ]
    },
    {
     "name": "stderr",
     "output_type": "stream",
     "text": [
      "100 6493k  100 6493k    0     0  3710k      0  0:00:01  0:00:01 --:--:-- 3727k\n",
      "  % Total    % Received % Xferd  Average Speed   Time    Time     Time  Current\n",
      "                                 Dload  Upload   Total   Spent    Left  Speed\n",
      "  0     0    0     0    0     0      0      0 --:--:-- --:--:-- --:--:--     0"
     ]
    },
    {
     "name": "stdout",
     "output_type": "stream",
     "text": [
      "Downloading file: green_tripdata_2020-03.parquet from url: \n",
      " https://d37ci6vzurychx.cloudfront.net/trip-data/green_tripdata_2020-03.parquet\n"
     ]
    },
    {
     "name": "stderr",
     "output_type": "stream",
     "text": [
      "100 3925k  100 3925k    0     0  2752k      0  0:00:01  0:00:01 --:--:-- 2774k\n",
      "  % Total    % Received % Xferd  Average Speed   Time    Time     Time  Current\n",
      "                                 Dload  Upload   Total   Spent    Left  Speed\n",
      "  0     0    0     0    0     0      0      0 --:--:-- --:--:-- --:--:--     0"
     ]
    },
    {
     "name": "stdout",
     "output_type": "stream",
     "text": [
      "Downloading file: green_tripdata_2020-04.parquet from url: \n",
      " https://d37ci6vzurychx.cloudfront.net/trip-data/green_tripdata_2020-04.parquet\n"
     ]
    },
    {
     "name": "stderr",
     "output_type": "stream",
     "text": [
      "100  696k  100  696k    0     0  1937k      0 --:--:-- --:--:-- --:--:-- 1990k\n",
      "  % Total    % Received % Xferd  Average Speed   Time    Time     Time  Current\n",
      "                                 Dload  Upload   Total   Spent    Left  Speed\n",
      "  0     0    0     0    0     0      0      0 --:--:-- --:--:-- --:--:--     0"
     ]
    },
    {
     "name": "stdout",
     "output_type": "stream",
     "text": [
      "Downloading file: green_tripdata_2020-05.parquet from url: \n",
      " https://d37ci6vzurychx.cloudfront.net/trip-data/green_tripdata_2020-05.parquet\n"
     ]
    },
    {
     "name": "stderr",
     "output_type": "stream",
     "text": [
      "100 1057k  100 1057k    0     0  2054k      0 --:--:-- --:--:-- --:--:-- 2093k\n",
      "  % Total    % Received % Xferd  Average Speed   Time    Time     Time  Current\n",
      "                                 Dload  Upload   Total   Spent    Left  Speed\n",
      "  0     0    0     0    0     0      0      0 --:--:-- --:--:-- --:--:--     0"
     ]
    },
    {
     "name": "stdout",
     "output_type": "stream",
     "text": [
      "Downloading file: green_tripdata_2020-06.parquet from url: \n",
      " https://d37ci6vzurychx.cloudfront.net/trip-data/green_tripdata_2020-06.parquet\n"
     ]
    },
    {
     "name": "stderr",
     "output_type": "stream",
     "text": [
      "100 1176k  100 1176k    0     0  1918k      0 --:--:-- --:--:-- --:--:-- 1945k\n",
      "  % Total    % Received % Xferd  Average Speed   Time    Time     Time  Current\n",
      "                                 Dload  Upload   Total   Spent    Left  Speed\n",
      "  0     0    0     0    0     0      0      0 --:--:-- --:--:-- --:--:--     0"
     ]
    },
    {
     "name": "stdout",
     "output_type": "stream",
     "text": [
      "Downloading file: green_tripdata_2020-07.parquet from url: \n",
      " https://d37ci6vzurychx.cloudfront.net/trip-data/green_tripdata_2020-07.parquet\n"
     ]
    },
    {
     "name": "stderr",
     "output_type": "stream",
     "text": [
      "100 1277k  100 1277k    0     0  2480k      0 --:--:-- --:--:-- --:--:-- 2529k\n",
      "  % Total    % Received % Xferd  Average Speed   Time    Time     Time  Current\n",
      "                                 Dload  Upload   Total   Spent    Left  Speed\n",
      "  0     0    0     0    0     0      0      0 --:--:-- --:--:-- --:--:--     0"
     ]
    },
    {
     "name": "stdout",
     "output_type": "stream",
     "text": [
      "Downloading file: green_tripdata_2020-08.parquet from url: \n",
      " https://d37ci6vzurychx.cloudfront.net/trip-data/green_tripdata_2020-08.parquet\n"
     ]
    },
    {
     "name": "stderr",
     "output_type": "stream",
     "text": [
      "100 1467k  100 1467k    0     0  2886k      0 --:--:-- --:--:-- --:--:-- 2935k\n",
      "  % Total    % Received % Xferd  Average Speed   Time    Time     Time  Current\n",
      "                                 Dload  Upload   Total   Spent    Left  Speed\n",
      "  0     0    0     0    0     0      0      0 --:--:-- --:--:-- --:--:--     0"
     ]
    },
    {
     "name": "stdout",
     "output_type": "stream",
     "text": [
      "Downloading file: green_tripdata_2020-09.parquet from url: \n",
      " https://d37ci6vzurychx.cloudfront.net/trip-data/green_tripdata_2020-09.parquet\n"
     ]
    },
    {
     "name": "stderr",
     "output_type": "stream",
     "text": [
      "100 1549k  100 1549k    0     0  2207k      0 --:--:-- --:--:-- --:--:-- 2235k\n",
      "  % Total    % Received % Xferd  Average Speed   Time    Time     Time  Current\n",
      "                                 Dload  Upload   Total   Spent    Left  Speed\n",
      "  0     0    0     0    0     0      0      0 --:--:-- --:--:-- --:--:--     0"
     ]
    },
    {
     "name": "stdout",
     "output_type": "stream",
     "text": [
      "Downloading file: green_tripdata_2020-10.parquet from url: \n",
      " https://d37ci6vzurychx.cloudfront.net/trip-data/green_tripdata_2020-10.parquet\n"
     ]
    },
    {
     "name": "stderr",
     "output_type": "stream",
     "text": [
      "100 1690k  100 1690k    0     0  1914k      0 --:--:-- --:--:-- --:--:-- 1936k\n",
      "  % Total    % Received % Xferd  Average Speed   Time    Time     Time  Current\n",
      "                                 Dload  Upload   Total   Spent    Left  Speed\n",
      "  0     0    0     0    0     0      0      0 --:--:-- --:--:-- --:--:--     0"
     ]
    },
    {
     "name": "stdout",
     "output_type": "stream",
     "text": [
      "Downloading file: green_tripdata_2020-11.parquet from url: \n",
      " https://d37ci6vzurychx.cloudfront.net/trip-data/green_tripdata_2020-11.parquet\n"
     ]
    },
    {
     "name": "stderr",
     "output_type": "stream",
     "text": [
      "100 1578k  100 1578k    0     0  1552k      0  0:00:01  0:00:01 --:--:-- 1567k\n",
      "  % Total    % Received % Xferd  Average Speed   Time    Time     Time  Current\n",
      "                                 Dload  Upload   Total   Spent    Left  Speed\n",
      "  0     0    0     0    0     0      0      0 --:--:-- --:--:-- --:--:--     0"
     ]
    },
    {
     "name": "stdout",
     "output_type": "stream",
     "text": [
      "Downloading file: green_tripdata_2020-12.parquet from url: \n",
      " https://d37ci6vzurychx.cloudfront.net/trip-data/green_tripdata_2020-12.parquet\n"
     ]
    },
    {
     "name": "stderr",
     "output_type": "stream",
     "text": [
      "100 1424k  100 1424k    0     0  2142k      0 --:--:-- --:--:-- --:--:-- 2174k\n"
     ]
    }
   ],
   "source": [
    "# yellow_tripdata_2020-01.parquet\n",
    "base_url = 'https://d37ci6vzurychx.cloudfront.net/trip-data/'\n",
    "colors = ['green', 'yellow']\n",
    "years = [2020, 2021]"
   ]
  },
  {
   "cell_type": "code",
   "execution_count": 16,
   "metadata": {},
   "outputs": [
    {
     "name": "stdout",
     "output_type": "stream",
     "text": [
      "Downloading file: green_tripdata_2020-01.parquet from url: \n",
      " https://d37ci6vzurychx.cloudfront.net/trip-data/green_tripdata_2020-01.parquet\n"
     ]
    },
    {
     "name": "stderr",
     "output_type": "stream",
     "text": [
      "  % Total    % Received % Xferd  Average Speed   Time    Time     Time  Current\n",
      "                                 Dload  Upload   Total   Spent    Left  Speed\n",
      "100 7014k  100 7014k    0     0  3574k      0  0:00:01  0:00:01 --:--:-- 3595k\n",
      "  % Total    % Received % Xferd  Average Speed   Time    Time     Time  Current\n",
      "                                 Dload  Upload   Total   Spent    Left  Speed\n",
      "  0     0    0     0    0     0      0      0 --:--:-- --:--:-- --:--:--     0"
     ]
    },
    {
     "name": "stdout",
     "output_type": "stream",
     "text": [
      "Downloading file: green_tripdata_2020-02.parquet from url: \n",
      " https://d37ci6vzurychx.cloudfront.net/trip-data/green_tripdata_2020-02.parquet\n"
     ]
    },
    {
     "name": "stderr",
     "output_type": "stream",
     "text": [
      "100 6493k  100 6493k    0     0  3994k      0  0:00:01  0:00:01 --:--:-- 4018k\n",
      "  % Total    % Received % Xferd  Average Speed   Time    Time     Time  Current\n",
      "                                 Dload  Upload   Total   Spent    Left  Speed\n",
      "  0     0    0     0    0     0      0      0 --:--:-- --:--:-- --:--:--     0"
     ]
    },
    {
     "name": "stdout",
     "output_type": "stream",
     "text": [
      "Downloading file: green_tripdata_2020-03.parquet from url: \n",
      " https://d37ci6vzurychx.cloudfront.net/trip-data/green_tripdata_2020-03.parquet\n"
     ]
    },
    {
     "name": "stderr",
     "output_type": "stream",
     "text": [
      "100 3925k  100 3925k    0     0  3438k      0  0:00:01  0:00:01 --:--:-- 3470k\n",
      "  % Total    % Received % Xferd  Average Speed   Time    Time     Time  Current\n",
      "                                 Dload  Upload   Total   Spent    Left  Speed\n",
      "  0     0    0     0    0     0      0      0 --:--:-- --:--:-- --:--:--     0"
     ]
    },
    {
     "name": "stdout",
     "output_type": "stream",
     "text": [
      "Downloading file: green_tripdata_2020-04.parquet from url: \n",
      " https://d37ci6vzurychx.cloudfront.net/trip-data/green_tripdata_2020-04.parquet\n"
     ]
    },
    {
     "name": "stderr",
     "output_type": "stream",
     "text": [
      "100  696k  100  696k    0     0  1851k      0 --:--:-- --:--:-- --:--:-- 1903k\n",
      "  % Total    % Received % Xferd  Average Speed   Time    Time     Time  Current\n",
      "                                 Dload  Upload   Total   Spent    Left  Speed\n",
      "  0     0    0     0    0     0      0      0 --:--:-- --:--:-- --:--:--     0"
     ]
    },
    {
     "name": "stdout",
     "output_type": "stream",
     "text": [
      "Downloading file: green_tripdata_2020-05.parquet from url: \n",
      " https://d37ci6vzurychx.cloudfront.net/trip-data/green_tripdata_2020-05.parquet\n"
     ]
    },
    {
     "name": "stderr",
     "output_type": "stream",
     "text": [
      "100 1057k  100 1057k    0     0  2363k      0 --:--:-- --:--:-- --:--:-- 2419k\n",
      "  % Total    % Received % Xferd  Average Speed   Time    Time     Time  Current\n",
      "                                 Dload  Upload   Total   Spent    Left  Speed\n",
      "  0     0    0     0    0     0      0      0 --:--:-- --:--:-- --:--:--     0"
     ]
    },
    {
     "name": "stdout",
     "output_type": "stream",
     "text": [
      "Downloading file: green_tripdata_2020-06.parquet from url: \n",
      " https://d37ci6vzurychx.cloudfront.net/trip-data/green_tripdata_2020-06.parquet\n"
     ]
    },
    {
     "name": "stderr",
     "output_type": "stream",
     "text": [
      "100 1176k  100 1176k    0     0  2203k      0 --:--:-- --:--:-- --:--:-- 2237k\n",
      "  % Total    % Received % Xferd  Average Speed   Time    Time     Time  Current\n",
      "                                 Dload  Upload   Total   Spent    Left  Speed\n",
      "  0     0    0     0    0     0      0      0 --:--:-- --:--:-- --:--:--     0"
     ]
    },
    {
     "name": "stdout",
     "output_type": "stream",
     "text": [
      "Downloading file: green_tripdata_2020-07.parquet from url: \n",
      " https://d37ci6vzurychx.cloudfront.net/trip-data/green_tripdata_2020-07.parquet\n"
     ]
    },
    {
     "name": "stderr",
     "output_type": "stream",
     "text": [
      "100 1277k  100 1277k    0     0  2299k      0 --:--:-- --:--:-- --:--:-- 2339k\n",
      "  % Total    % Received % Xferd  Average Speed   Time    Time     Time  Current\n",
      "                                 Dload  Upload   Total   Spent    Left  Speed\n",
      "  0     0    0     0    0     0      0      0 --:--:-- --:--:-- --:--:--     0"
     ]
    },
    {
     "name": "stdout",
     "output_type": "stream",
     "text": [
      "Downloading file: green_tripdata_2020-08.parquet from url: \n",
      " https://d37ci6vzurychx.cloudfront.net/trip-data/green_tripdata_2020-08.parquet\n"
     ]
    },
    {
     "name": "stderr",
     "output_type": "stream",
     "text": [
      "100 1467k  100 1467k    0     0  1820k      0 --:--:-- --:--:-- --:--:-- 1848k\n",
      "  % Total    % Received % Xferd  Average Speed   Time    Time     Time  Current\n",
      "                                 Dload  Upload   Total   Spent    Left  Speed\n",
      "  0     0    0     0    0     0      0      0 --:--:-- --:--:-- --:--:--     0"
     ]
    },
    {
     "name": "stdout",
     "output_type": "stream",
     "text": [
      "Downloading file: green_tripdata_2020-09.parquet from url: \n",
      " https://d37ci6vzurychx.cloudfront.net/trip-data/green_tripdata_2020-09.parquet\n"
     ]
    },
    {
     "name": "stderr",
     "output_type": "stream",
     "text": [
      "100 1549k  100 1549k    0     0  3302k      0 --:--:-- --:--:-- --:--:-- 3368k\n",
      "  % Total    % Received % Xferd  Average Speed   Time    Time     Time  Current\n",
      "                                 Dload  Upload   Total   Spent    Left  Speed\n",
      "  0     0    0     0    0     0      0      0 --:--:-- --:--:-- --:--:--     0"
     ]
    },
    {
     "name": "stdout",
     "output_type": "stream",
     "text": [
      "Downloading file: green_tripdata_2020-10.parquet from url: \n",
      " https://d37ci6vzurychx.cloudfront.net/trip-data/green_tripdata_2020-10.parquet\n"
     ]
    },
    {
     "name": "stderr",
     "output_type": "stream",
     "text": [
      "100 1690k  100 1690k    0     0  2546k      0 --:--:-- --:--:-- --:--:-- 2588k\n",
      "  % Total    % Received % Xferd  Average Speed   Time    Time     Time  Current\n",
      "                                 Dload  Upload   Total   Spent    Left  Speed\n",
      "  0     0    0     0    0     0      0      0 --:--:-- --:--:-- --:--:--     0"
     ]
    },
    {
     "name": "stdout",
     "output_type": "stream",
     "text": [
      "Downloading file: green_tripdata_2020-11.parquet from url: \n",
      " https://d37ci6vzurychx.cloudfront.net/trip-data/green_tripdata_2020-11.parquet\n"
     ]
    },
    {
     "name": "stderr",
     "output_type": "stream",
     "text": [
      "100 1578k  100 1578k    0     0  3235k      0 --:--:-- --:--:-- --:--:-- 3302k\n",
      "  % Total    % Received % Xferd  Average Speed   Time    Time     Time  Current\n",
      "                                 Dload  Upload   Total   Spent    Left  Speed\n",
      "  0     0    0     0    0     0      0      0 --:--:-- --:--:-- --:--:--     0"
     ]
    },
    {
     "name": "stdout",
     "output_type": "stream",
     "text": [
      "Downloading file: green_tripdata_2020-12.parquet from url: \n",
      " https://d37ci6vzurychx.cloudfront.net/trip-data/green_tripdata_2020-12.parquet\n"
     ]
    },
    {
     "name": "stderr",
     "output_type": "stream",
     "text": [
      "100 1424k  100 1424k    0     0  2531k      0 --:--:-- --:--:-- --:--:-- 2575k\n"
     ]
    }
   ],
   "source": [
    "for month in range(1, 13):\n",
    "\n",
    "    url = f'{base_url}{colors[0]}_tripdata_{years[0]}-{month:02}.parquet'\n",
    "    file_name = f'{colors[0]}_tripdata_{years[0]}-{month:02}.parquet'\n",
    "    raw_path = Path(f'/Users/gonzo/Desktop/de_bootcamp/week_5/data/{colors[0]}/raw/')\n",
    "    \n",
    "    try:\n",
    "        print(f'Downloading file: {file_name} from url: \\n {url}')\n",
    "        os.system(f'curl -o {raw_path}/{file_name} {url}')\n",
    "    except ValueError:\n",
    "        print('URL doesn\\'t have the correct format')"
   ]
  },
  {
   "cell_type": "code",
   "execution_count": 17,
   "metadata": {},
   "outputs": [
    {
     "name": "stderr",
     "output_type": "stream",
     "text": [
      "  % Total    % Received % Xferd  Average Speed   Time    Time     Time  Current\n",
      "                                 Dload  Upload   Total   Spent    Left  Speed\n",
      "  0     0    0     0    0     0      0      0 --:--:-- --:--:-- --:--:--     0"
     ]
    },
    {
     "name": "stdout",
     "output_type": "stream",
     "text": [
      "Downloading file: yellow_tripdata_2021-01.parquet from url: \n",
      " https://d37ci6vzurychx.cloudfront.net/trip-data/yellow_tripdata_2021-           1.parquet\n"
     ]
    },
    {
     "name": "stderr",
     "output_type": "stream",
     "text": [
      "100   243    0   243    0     0    967      0 --:--:-- --:--:-- --:--:--  1021\n",
      "  % Total    % Received % Xferd  Average Speed   Time    Time     Time  Current\n",
      "                                 Dload  Upload   Total   Spent    Left  Speed\n",
      "  0     0    0     0    0     0      0      0 --:--:-- --:--:-- --:--:--     0curl: (6) Could not resolve host: 1.parquet\n",
      "  % Total    % Received % Xferd  Average Speed   Time    Time     Time  Current\n",
      "                                 Dload  Upload   Total   Spent    Left  Speed\n",
      "  0     0    0     0    0     0      0      0 --:--:-- --:--:-- --:--:--     0"
     ]
    },
    {
     "name": "stdout",
     "output_type": "stream",
     "text": [
      "Downloading file: yellow_tripdata_2021-02.parquet from url: \n",
      " https://d37ci6vzurychx.cloudfront.net/trip-data/yellow_tripdata_2021-           2.parquet\n"
     ]
    },
    {
     "name": "stderr",
     "output_type": "stream",
     "text": [
      "100   243    0   243    0     0    641      0 --:--:-- --:--:-- --:--:--   658\n",
      "  % Total    % Received % Xferd  Average Speed   Time    Time     Time  Current\n",
      "                                 Dload  Upload   Total   Spent    Left  Speed\n",
      "  0     0    0     0    0     0      0      0 --:--:-- --:--:-- --:--:--     0curl: (6) Could not resolve host: 2.parquet\n",
      "  % Total    % Received % Xferd  Average Speed   Time    Time     Time  Current\n",
      "                                 Dload  Upload   Total   Spent    Left  Speed\n",
      "  0     0    0     0    0     0      0      0 --:--:-- --:--:-- --:--:--     0"
     ]
    },
    {
     "name": "stdout",
     "output_type": "stream",
     "text": [
      "Downloading file: yellow_tripdata_2021-03.parquet from url: \n",
      " https://d37ci6vzurychx.cloudfront.net/trip-data/yellow_tripdata_2021-           3.parquet\n"
     ]
    },
    {
     "name": "stderr",
     "output_type": "stream",
     "text": [
      "100   243    0   243    0     0   1404      0 --:--:-- --:--:-- --:--:--  1500\n",
      "  % Total    % Received % Xferd  Average Speed   Time    Time     Time  Current\n",
      "                                 Dload  Upload   Total   Spent    Left  Speed\n",
      "  0     0    0     0    0     0      0      0 --:--:-- --:--:-- --:--:--     0curl: (6) Could not resolve host: 3.parquet\n",
      "  % Total    % Received % Xferd  Average Speed   Time    Time     Time  Current\n",
      "                                 Dload  Upload   Total   Spent    Left  Speed\n",
      "  0     0    0     0    0     0      0      0 --:--:-- --:--:-- --:--:--     0"
     ]
    },
    {
     "name": "stdout",
     "output_type": "stream",
     "text": [
      "Downloading file: yellow_tripdata_2021-04.parquet from url: \n",
      " https://d37ci6vzurychx.cloudfront.net/trip-data/yellow_tripdata_2021-           4.parquet\n"
     ]
    },
    {
     "name": "stderr",
     "output_type": "stream",
     "text": [
      "100   243    0   243    0     0   1388      0 --:--:-- --:--:-- --:--:--  1472\n",
      "  % Total    % Received % Xferd  Average Speed   Time    Time     Time  Current\n",
      "                                 Dload  Upload   Total   Spent    Left  Speed\n",
      "  0     0    0     0    0     0      0      0 --:--:-- --:--:-- --:--:--     0curl: (6) Could not resolve host: 4.parquet\n",
      "  % Total    % Received % Xferd  Average Speed   Time    Time     Time  Current\n",
      "                                 Dload  Upload   Total   Spent    Left  Speed\n",
      "  0     0    0     0    0     0      0      0 --:--:-- --:--:-- --:--:--     0"
     ]
    },
    {
     "name": "stdout",
     "output_type": "stream",
     "text": [
      "Downloading file: yellow_tripdata_2021-05.parquet from url: \n",
      " https://d37ci6vzurychx.cloudfront.net/trip-data/yellow_tripdata_2021-           5.parquet\n"
     ]
    },
    {
     "name": "stderr",
     "output_type": "stream",
     "text": [
      "100   243    0   243    0     0    865      0 --:--:-- --:--:-- --:--:--   896\n",
      "  % Total    % Received % Xferd  Average Speed   Time    Time     Time  Current\n",
      "                                 Dload  Upload   Total   Spent    Left  Speed\n",
      "  0     0    0     0    0     0      0      0 --:--:-- --:--:-- --:--:--     0curl: (6) Could not resolve host: 5.parquet\n"
     ]
    },
    {
     "name": "stdout",
     "output_type": "stream",
     "text": [
      "Downloading file: yellow_tripdata_2021-06.parquet from url: \n",
      " https://d37ci6vzurychx.cloudfront.net/trip-data/yellow_tripdata_2021-           6.parquet\n"
     ]
    },
    {
     "name": "stderr",
     "output_type": "stream",
     "text": [
      "  % Total    % Received % Xferd  Average Speed   Time    Time     Time  Current\n",
      "                                 Dload  Upload   Total   Spent    Left  Speed\n",
      "100   243    0   243    0     0   1449      0 --:--:-- --:--:-- --:--:--  1567\n",
      "  % Total    % Received % Xferd  Average Speed   Time    Time     Time  Current\n",
      "                                 Dload  Upload   Total   Spent    Left  Speed\n",
      "  0     0    0     0    0     0      0      0 --:--:-- --:--:-- --:--:--     0curl: (6) Could not resolve host: 6.parquet\n",
      "  % Total    % Received % Xferd  Average Speed   Time    Time     Time  Current\n",
      "                                 Dload  Upload   Total   Spent    Left  Speed\n",
      "100   243    0   243    0     0   1400      0 --:--:-- --:--:-- --:--:--  1481\n",
      "  % Total    % Received % Xferd  Average Speed   Time    Time     Time  Current\n",
      "                                 Dload  Upload   Total   Spent    Left  Speed\n",
      "  0     0    0     0    0     0      0      0 --:--:-- --:--:-- --:--:--     0"
     ]
    },
    {
     "name": "stdout",
     "output_type": "stream",
     "text": [
      "Downloading file: yellow_tripdata_2021-07.parquet from url: \n",
      " https://d37ci6vzurychx.cloudfront.net/trip-data/yellow_tripdata_2021-           7.parquet\n"
     ]
    },
    {
     "name": "stderr",
     "output_type": "stream",
     "text": [
      "curl: (6) Could not resolve host: 7.parquet\n",
      "  % Total    % Received % Xferd  Average Speed   Time    Time     Time  Current\n",
      "                                 Dload  Upload   Total   Spent    Left  Speed\n",
      "100   243    0   243    0     0   1405      0 --:--:-- --:--:-- --:--:--  1490\n",
      "  % Total    % Received % Xferd  Average Speed   Time    Time     Time  Current\n",
      "                                 Dload  Upload   Total   Spent    Left  Speed\n",
      "  0     0    0     0    0     0      0      0 --:--:-- --:--:-- --:--:--     0"
     ]
    },
    {
     "name": "stdout",
     "output_type": "stream",
     "text": [
      "Downloading file: yellow_tripdata_2021-08.parquet from url: \n",
      " https://d37ci6vzurychx.cloudfront.net/trip-data/yellow_tripdata_2021-           8.parquet\n"
     ]
    },
    {
     "name": "stderr",
     "output_type": "stream",
     "text": [
      "curl: (6) Could not resolve host: 8.parquet\n",
      "  % Total    % Received % Xferd  Average Speed   Time    Time     Time  Current\n",
      "                                 Dload  Upload   Total   Spent    Left  Speed\n",
      "  0     0    0     0    0     0      0      0 --:--:-- --:--:-- --:--:--     0"
     ]
    },
    {
     "name": "stdout",
     "output_type": "stream",
     "text": [
      "Downloading file: yellow_tripdata_2021-09.parquet from url: \n",
      " https://d37ci6vzurychx.cloudfront.net/trip-data/yellow_tripdata_2021-           9.parquet\n"
     ]
    },
    {
     "name": "stderr",
     "output_type": "stream",
     "text": [
      "100   243    0   243    0     0    804      0 --:--:-- --:--:-- --:--:--   832\n",
      "  % Total    % Received % Xferd  Average Speed   Time    Time     Time  Current\n",
      "                                 Dload  Upload   Total   Spent    Left  Speed\n",
      "  0     0    0     0    0     0      0      0 --:--:-- --:--:-- --:--:--     0curl: (6) Could not resolve host: 9.parquet\n",
      "  % Total    % Received % Xferd  Average Speed   Time    Time     Time  Current\n",
      "                                 Dload  Upload   Total   Spent    Left  Speed\n",
      "  0     0    0     0    0     0      0      0 --:--:-- --:--:-- --:--:--     0"
     ]
    },
    {
     "name": "stdout",
     "output_type": "stream",
     "text": [
      "Downloading file: yellow_tripdata_2021-10.parquet from url: \n",
      " https://d37ci6vzurychx.cloudfront.net/trip-data/yellow_tripdata_2021-          10.parquet\n"
     ]
    },
    {
     "name": "stderr",
     "output_type": "stream",
     "text": [
      "100   243    0   243    0     0    798      0 --:--:-- --:--:-- --:--:--   823\n",
      "  % Total    % Received % Xferd  Average Speed   Time    Time     Time  Current\n",
      "                                 Dload  Upload   Total   Spent    Left  Speed\n",
      "  0     0    0     0    0     0      0      0 --:--:-- --:--:-- --:--:--     0curl: (6) Could not resolve host: 10.parquet\n",
      "  % Total    % Received % Xferd  Average Speed   Time    Time     Time  Current\n",
      "                                 Dload  Upload   Total   Spent    Left  Speed\n",
      "  0     0    0     0    0     0      0      0 --:--:-- --:--:-- --:--:--     0"
     ]
    },
    {
     "name": "stdout",
     "output_type": "stream",
     "text": [
      "Downloading file: yellow_tripdata_2021-11.parquet from url: \n",
      " https://d37ci6vzurychx.cloudfront.net/trip-data/yellow_tripdata_2021-          11.parquet\n"
     ]
    },
    {
     "name": "stderr",
     "output_type": "stream",
     "text": [
      "100   243    0   243    0     0   1308      0 --:--:-- --:--:-- --:--:--  1388\n",
      "  % Total    % Received % Xferd  Average Speed   Time    Time     Time  Current\n",
      "                                 Dload  Upload   Total   Spent    Left  Speed\n",
      "  0     0    0     0    0     0      0      0 --:--:-- --:--:-- --:--:--     0curl: (6) Could not resolve host: 11.parquet\n",
      "  % Total    % Received % Xferd  Average Speed   Time    Time     Time  Current\n",
      "                                 Dload  Upload   Total   Spent    Left  Speed\n",
      "  0     0    0     0    0     0      0      0 --:--:-- --:--:-- --:--:--     0"
     ]
    },
    {
     "name": "stdout",
     "output_type": "stream",
     "text": [
      "Downloading file: yellow_tripdata_2021-12.parquet from url: \n",
      " https://d37ci6vzurychx.cloudfront.net/trip-data/yellow_tripdata_2021-          12.parquet\n"
     ]
    },
    {
     "name": "stderr",
     "output_type": "stream",
     "text": [
      "100   243    0   243    0     0   1388      0 --:--:-- --:--:-- --:--:--  1463\n",
      "  % Total    % Received % Xferd  Average Speed   Time    Time     Time  Current\n",
      "                                 Dload  Upload   Total   Spent    Left  Speed\n",
      "  0     0    0     0    0     0      0      0 --:--:-- --:--:-- --:--:--     0curl: (6) Could not resolve host: 12.parquet\n"
     ]
    }
   ],
   "source": [
    "for month in range(1, 13):\n",
    "\n",
    "    url = f'{base_url}{colors[1]}_tripdata_{years[1]}-{month:12}.parquet'\n",
    "    file_name = f'{colors[1]}_tripdata_{years[1]}-{month:02}.parquet'\n",
    "    raw_path = Path(f'/Users/gonzo/Desktop/de_bootcamp/week_5/data/{colors[0]}/raw/')\n",
    "    \n",
    "    try:\n",
    "        print(f'Downloading file: {file_name} from url: \\n {url}')\n",
    "        os.system(f'curl -o {raw_path}/{file_name} {url}')\n",
    "    except ValueError:\n",
    "        print('URL doesn\\'t have the correct format')"
   ]
  },
  {
   "cell_type": "code",
   "execution_count": null,
   "metadata": {},
   "outputs": [],
   "source": []
  }
 ],
 "metadata": {
  "kernelspec": {
   "display_name": "Python 3 (ipykernel)",
   "language": "python",
   "name": "python3"
  },
  "language_info": {
   "codemirror_mode": {
    "name": "ipython",
    "version": 3
   },
   "file_extension": ".py",
   "mimetype": "text/x-python",
   "name": "python",
   "nbconvert_exporter": "python",
   "pygments_lexer": "ipython3",
   "version": "3.10.9"
  },
  "orig_nbformat": 4
 },
 "nbformat": 4,
 "nbformat_minor": 2
}
